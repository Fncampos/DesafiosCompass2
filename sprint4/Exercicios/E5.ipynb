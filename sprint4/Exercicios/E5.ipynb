{
 "cells": [
  {
   "cell_type": "code",
   "execution_count": null,
   "metadata": {},
   "outputs": [],
   "source": [
    "E5\n",
    "Um determinado sistema escolar exporta a grade de notas dos estudantes em formato CSV. Cada linha do arquivo corresponde \n",
    "ao nome do estudante, acompanhado de 5 notas de avaliação, no intervalo [0-10]. É o arquivo estudantes.csv de seu exercício.\n",
    "Precisamos processar seu conteúdo, de modo a gerar como saída um relatório em formato textual contendo as seguintes informações:\n",
    "Nome do estudante,Três maiores notas, em ordem decrescente,Média das três maiores notas, com duas casas decimais de precisão.\n",
    "O resultado do processamento deve ser escrito na saída padrão (print), ordenado pelo nome do estudante e obedecendo ao formato\n",
    "descrito a seguir:\n",
    "\n",
    "Nome: <nome estudante> Notas: [n1, n2, n3] Média: <média>\n",
    "\n",
    "Exemplo:\n",
    "Nome: Maria Luiza Correia Notas: [7, 5, 5] Média: 5.67\n",
    "Nome: Maria Mendes Notas: [7, 3, 3] Média: 4.33\n",
    "\n",
    "Em seu desenvolvimento você deverá utilizar lambdas e as seguintes funções:\n",
    "round, map, sorted\n",
    "\n"
   ]
  },
  {
   "cell_type": "code",
   "execution_count": 1,
   "metadata": {},
   "outputs": [
    {
     "name": "stdout",
     "output_type": "stream",
     "text": [
      "Nome: Alexandre da Rosa Notas: [10, 10, 8] Média: 9.33\n",
      "Nome: Ana Clara das Neves Notas: [7, 6, 6] Média: 6.33\n",
      "Nome: Ana Gonçalves Notas: [8, 3, 3] Média: 4.67\n",
      "Nome: Ana Julia Cavalcanti Notas: [10, 10, 9] Média: 9.67\n",
      "Nome: Ana Vitória Moraes Notas: [10, 6, 5] Média: 7.0\n",
      "Nome: André Mendes Notas: [6, 4, 4] Média: 4.67\n",
      "Nome: Beatriz Moreira Notas: [6, 4, 3] Média: 4.33\n",
      "Nome: Carolina da Mata Notas: [5, 5, 3] Média: 4.33\n",
      "Nome: Catarina Barros Notas: [10, 4, 3] Média: 5.67\n",
      "Nome: Cauê Fogaça Notas: [10, 5, 5] Média: 6.67\n",
      "Nome: Cecília Costa Notas: [9, 4, 4] Média: 5.67\n",
      "Nome: Clara da Rocha Notas: [9, 9, 7] Média: 8.33\n",
      "Nome: Davi Lucas Gomes Notas: [9, 8, 8] Média: 8.33\n",
      "Nome: Diogo Aragão Notas: [7, 5, 5] Média: 5.67\n",
      "Nome: Dr. Pedro Henrique Rezende Notas: [10, 10, 3] Média: 7.67\n",
      "Nome: Dra. Heloísa Pinto Notas: [8, 6, 5] Média: 6.33\n",
      "Nome: Dra. Laura Pereira Notas: [6, 5, 3] Média: 4.67\n",
      "Nome: Enzo Melo Notas: [10, 10, 6] Média: 8.67\n",
      "Nome: Gabriel Novaes Notas: [10, 10, 8] Média: 9.33\n",
      "Nome: Gabriel da Rosa Notas: [3, 3, 2] Média: 2.67\n",
      "Nome: Heitor Aragão Notas: [6, 6, 5] Média: 5.67\n",
      "Nome: Heitor Martins Notas: [10, 9, 6] Média: 8.33\n",
      "Nome: João Cardoso Notas: [10, 7, 5] Média: 7.33\n",
      "Nome: João Pedro Moura Notas: [5, 3, 3] Média: 3.67\n",
      "Nome: Leandro Rodrigues Notas: [7, 5, 4] Média: 5.33\n",
      "Nome: Letícia Jesus Notas: [6, 5, 5] Média: 5.33\n",
      "Nome: Luigi Pereira Notas: [9, 8, 8] Média: 8.33\n",
      "Nome: Maria Luiza Correia Notas: [7, 5, 5] Média: 5.67\n",
      "Nome: Maria Mendes Notas: [7, 3, 3] Média: 4.33\n",
      "Nome: Nicolas Campos Notas: [10, 8, 7] Média: 8.33\n",
      "Nome: Nina Viana Notas: [10, 9, 6] Média: 8.33\n",
      "Nome: Paulo da Rosa Notas: [5, 5, 5] Média: 5.0\n",
      "Nome: Pedro Castro Notas: [9, 8, 5] Média: 7.33\n",
      "Nome: Pedro Lucas Araújo Notas: [9, 7, 3] Média: 6.33\n",
      "Nome: Rodrigo Jesus Notas: [10, 8, 8] Média: 8.67\n",
      "Nome: Ryan Nascimento Notas: [9, 6, 4] Média: 6.33\n",
      "Nome: Sr. Luiz Otávio Cardoso Notas: [10, 10, 9] Média: 9.67\n",
      "Nome: Sra. Melissa da Cunha Notas: [10, 5, 3] Média: 6.0\n",
      "Nome: Srta. Carolina Almeida Notas: [10, 9, 2] Média: 7.0\n",
      "Nome: Thiago Silveira Notas: [7, 7, 4] Média: 6.0\n"
     ]
    }
   ],
   "source": [
    "arquivo = open(\"estudantes.csv\", mode=\"r\", encoding=\"utf8\")\n",
    "listaV1 = list(map(lambda x: x.rstrip('\\n'), arquivo))\n",
    "listaV2 = sorted(list(map(lambda x: x.split(\",\"), listaV1)))\n",
    "lista_nomes=list(map(lambda x: x[0], listaV2))\n",
    "lista_notas = list(map(lambda x: x[1:], listaV2))\n",
    "lista_3_notas=list(map(lambda x: sorted(list(map(lambda x: int(x), x)),reverse=True)[0:3] , lista_notas))\n",
    "lista_media= list(map(lambda x: round((sum(sorted(list(map(lambda x: float(x), x)),reverse=True)[0:3])/3),2), lista_notas))\n",
    "listaFinal= list(zip(lista_nomes,lista_3_notas,lista_media))\n",
    "funcao_imprimir = lambda x: print(f'Nome: {x[0]} Notas: {x[1]} Média: {x[2]}')\n",
    "exibicao = list(map(funcao_imprimir,listaFinal))\n"
   ]
  }
 ],
 "metadata": {
  "kernelspec": {
   "display_name": "base",
   "language": "python",
   "name": "python3"
  },
  "language_info": {
   "codemirror_mode": {
    "name": "ipython",
    "version": 3
   },
   "file_extension": ".py",
   "mimetype": "text/x-python",
   "name": "python",
   "nbconvert_exporter": "python",
   "pygments_lexer": "ipython3",
   "version": "3.11.2"
  },
  "orig_nbformat": 4
 },
 "nbformat": 4,
 "nbformat_minor": 2
}
