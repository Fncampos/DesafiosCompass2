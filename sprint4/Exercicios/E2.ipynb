{
 "cells": [
  {
   "attachments": {},
   "cell_type": "markdown",
   "metadata": {},
   "source": [
    "E2\n",
    "Utilizando high order functions, implemente o corpo da função conta_vogais. O parâmetro de entrada será uma string e o resultado deverá ser a contagem de vogais presentes em seu conteúdo.\n",
    "É obrigatório aplicar as seguintes funções:\n",
    "len, filter, lambda\n",
    "Desconsidere os caracteres acentuados. Eles não serão utilizados nos testes do seu código."
   ]
  },
  {
   "cell_type": "code",
   "execution_count": 20,
   "metadata": {},
   "outputs": [
    {
     "name": "stdout",
     "output_type": "stream",
     "text": [
      "14\n"
     ]
    }
   ],
   "source": [
    "def conta_vogais(texto:str)-> int:\n",
    "    vogal_a =len(list(filter(lambda letra : letra.lower()=='a', texto)))\n",
    "    vogal_e =len(list(filter(lambda letra : letra.lower()=='e', texto)))\n",
    "    vogal_i =len(list(filter(lambda letra : letra.lower()=='i', texto)))\n",
    "    vogal_o =len(list(filter(lambda letra : letra.lower()=='o', texto)))\n",
    "    vogal_u =len(list(filter(lambda letra : letra.lower()=='u', texto)))\n",
    "    return vogal_a + vogal_e + vogal_i + vogal_o + vogal_u\n",
    "\n",
    "print(conta_vogais(\"Ola mundo, este e um importante teste\"))"
   ]
  }
 ],
 "metadata": {
  "kernelspec": {
   "display_name": "base",
   "language": "python",
   "name": "python3"
  },
  "language_info": {
   "codemirror_mode": {
    "name": "ipython",
    "version": 3
   },
   "file_extension": ".py",
   "mimetype": "text/x-python",
   "name": "python",
   "nbconvert_exporter": "python",
   "pygments_lexer": "ipython3",
   "version": "3.9.13"
  },
  "orig_nbformat": 4
 },
 "nbformat": 4,
 "nbformat_minor": 2
}
