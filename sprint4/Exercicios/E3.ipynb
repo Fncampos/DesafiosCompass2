{
 "cells": [
  {
   "attachments": {},
   "cell_type": "markdown",
   "metadata": {},
   "source": [
    "E3\n",
    "A função calcula_saldo recebe uma lista de tuplas, correspondendo a um conjunto de lançamentos bancários. Cada lançamento é composto pelo seu valor (sempre positivo) e pelo seu tipo (C - crédito ou D - débito). \n",
    "Abaixo apresentando uma possível entrada para a função.\n",
    "lancamentos = [\n",
    "    (200,'D'),\n",
    "    (300,'C'),\n",
    "    (100,'C')\n",
    "]\n",
    "A partir dos lançamentos, a função deve calcular o valor final, somando créditos e subtraindo débitos. Na lista anterior, por exemplo, teríamos como resultado final 200.\n",
    "Além de utilizar lambdas, você deverá aplicar, obrigatoriamente, as seguintes funções na resolução:\n",
    "reduce (módulo functools) e map"
   ]
  },
  {
   "cell_type": "code",
   "execution_count": null,
   "metadata": {},
   "outputs": [],
   "source": [
    "from functools import reduce\n",
    "\n",
    "def calcula_saldo(lancamentos) -> float:\n",
    "    valores= map(lambda x: -1*float(x[0]) if x[1] =='D' else float(x[0]) , lancamentos)\n",
    "    return reduce(lambda x,y: x+y, valores)"
   ]
  }
 ],
 "metadata": {
  "language_info": {
   "name": "python"
  },
  "orig_nbformat": 4
 },
 "nbformat": 4,
 "nbformat_minor": 2
}
