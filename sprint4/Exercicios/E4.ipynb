{
 "cells": [
  {
   "attachments": {},
   "cell_type": "markdown",
   "metadata": {},
   "source": [
    "E4\n",
    "A função calcular_valor_maximo deve receber dois parâmetros, chamados de operadores e operandos. Em operadores, espera-se uma lista de caracteres que representam as operações matemáticas suportadas (+, -, /, *, %), as quais devem ser aplicadas à lista de operadores nas respectivas posições. Após aplicar cada operação ao respectivo par de operandos, a função deverá retornar o maior valor dentre eles.\n",
    "Veja o exemplo:\n",
    "Entrada\n",
    "operadores = ['+','-','*','/','+']\n",
    "operandos  = [(3,6), (-7,4.9), (8,-8), (10,2), (8,4)]\n",
    "Aplicar as operações aos pares de operandos\n",
    "[ 3+6 , -7-4.9, 8*-8 , 10/2 , 8+4 ] \n",
    "Obter o maior dos valores\n",
    "12\n",
    "Na resolução da atividade você deverá aplicar as seguintes funções: max, zip, map"
   ]
  },
  {
   "cell_type": "code",
   "execution_count": null,
   "metadata": {},
   "outputs": [],
   "source": [
    "def calcular_valor_maximo(operadores,operandos) -> float:\n",
    "    zip_valores_operadores = list(zip(map(lambda x: float(x[0]), operandos) , map(lambda x: float(x[1]), operandos), map(lambda x: x[0], operadores)))\n",
    "    resultado= max(list(map(lambda x : x[0]+ x[1] if x[2]==\"+\"else x[0]- x[1] if x[2]==\"-\" else x[0]* x[1] if x[2]==\"*\" else x[0]/ x[1], zip_valores_operadores)))\n",
    "    return resultado"
   ]
  }
 ],
 "metadata": {
  "kernelspec": {
   "display_name": "base",
   "language": "python",
   "name": "python3"
  },
  "language_info": {
   "codemirror_mode": {
    "name": "ipython",
    "version": 3
   },
   "file_extension": ".py",
   "mimetype": "text/x-python",
   "name": "python",
   "nbconvert_exporter": "python",
   "pygments_lexer": "ipython3",
   "version": "3.9.13"
  },
  "orig_nbformat": 4
 },
 "nbformat": 4,
 "nbformat_minor": 2
}
